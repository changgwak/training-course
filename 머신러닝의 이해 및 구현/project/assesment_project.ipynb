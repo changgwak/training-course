{
 "cells": [
  {
   "cell_type": "markdown",
   "id": "cb9866f1",
   "metadata": {},
   "source": [
    "# 삼성전자 ML 이해 및 구현 파이널 프로젝트\n",
    "\n",
    "> - 목적\n",
    ">> 건축물에 사용되는 콘크리트의 압축강도를 예측하기 위한 ML모델을 생성합니다.  \n",
    ">> 프로젝트 목적에 따라 올바른 ML모델을 선택하고 파라메터 서칭을 통해 우수한 모델을 구축합니다.  \n",
    ">> 콘크리트 혼합물 및 연식에 따른 콘크리트의 내구성을 예측하여 건물의 유지보수 시 참고할 수 있는 모델을 생성함에 목적이 있습니다.\n",
    "\n",
    "> - 진행방식\n",
    ">> 아래 굵은 글씨로 작성 되어있는 테스트를 수행하며 테스크 아래 수행 결과값과 비교하며 프로젝트를 진행합니다.  \n",
    ">> 코드 실행 결과값이 없을 경우 # 결과값 없음, 코드 실행 결과가 결과값이랑 다를 수 있는 경우 # 결과값 다를 수 있음으로 가늠합니다.  \n",
    ">> 필요 시 추가적으로 셀을 생성하며 진행합니다."
   ]
  },
  {
   "cell_type": "markdown",
   "id": "685ae2a2",
   "metadata": {},
   "source": [
    "# 필요모듈 import"
   ]
  },
  {
   "cell_type": "code",
   "execution_count": 2,
   "id": "4e643cc4",
   "metadata": {
    "ExecuteTime": {
     "end_time": "2024-02-21T11:43:49.426943Z",
     "start_time": "2024-02-21T11:43:49.419762Z"
    }
   },
   "outputs": [],
   "source": [
    "# CODE HERE\n",
    "from itertools import product\n",
    "import pandas as pd\n",
    "from sklearn.datasets import load_breast_cancer\n",
    "from sklearn.model_selection import train_test_split\n",
    "from sklearn.linear_model import LinearRegression\n",
    "from sklearn.tree import DecisionTreeRegressor\n",
    "from sklearn.ensemble import RandomForestRegressor\n",
    "from xgboost import XGBRegressor\n",
    "from sklearn.metrics import recall_score\n",
    "from sklearn.model_selection import GridSearchCV\n",
    "from sklearn.metrics import confusion_matrix\n",
    "\n",
    "\n",
    "# LinearRegression, DecisionTreeRegressor, RandomForestRegressor, XGBRegressor\n"
   ]
  },
  {
   "cell_type": "markdown",
   "id": "288ee740",
   "metadata": {},
   "source": [
    "# 데이터 로딩 및 확인\n",
    "## 함께 제공 된 concrete.csv 파일을 읽어들여 데이터프레임으로 저장 후 첫 5개 샘플 데이터 확인"
   ]
  },
  {
   "cell_type": "code",
   "execution_count": 3,
   "id": "d630e8b6",
   "metadata": {},
   "outputs": [
    {
     "data": {
      "text/html": [
       "<div>\n",
       "<style scoped>\n",
       "    .dataframe tbody tr th:only-of-type {\n",
       "        vertical-align: middle;\n",
       "    }\n",
       "\n",
       "    .dataframe tbody tr th {\n",
       "        vertical-align: top;\n",
       "    }\n",
       "\n",
       "    .dataframe thead th {\n",
       "        text-align: right;\n",
       "    }\n",
       "</style>\n",
       "<table border=\"1\" class=\"dataframe\">\n",
       "  <thead>\n",
       "    <tr style=\"text-align: right;\">\n",
       "      <th></th>\n",
       "      <th>Cement</th>\n",
       "      <th>BlastFurnaceSlag</th>\n",
       "      <th>FlyAsh</th>\n",
       "      <th>Water</th>\n",
       "      <th>Superplasticizer</th>\n",
       "      <th>CoarseAggregate</th>\n",
       "      <th>FineAggregate</th>\n",
       "      <th>Age</th>\n",
       "      <th>Concretecompressivestrength</th>\n",
       "    </tr>\n",
       "  </thead>\n",
       "  <tbody>\n",
       "    <tr>\n",
       "      <th>0</th>\n",
       "      <td>540.0</td>\n",
       "      <td>0.0</td>\n",
       "      <td>0.0</td>\n",
       "      <td>162.0</td>\n",
       "      <td>2.5</td>\n",
       "      <td>1040.0</td>\n",
       "      <td>676.0</td>\n",
       "      <td>28</td>\n",
       "      <td>79.986111</td>\n",
       "    </tr>\n",
       "    <tr>\n",
       "      <th>1</th>\n",
       "      <td>540.0</td>\n",
       "      <td>0.0</td>\n",
       "      <td>0.0</td>\n",
       "      <td>162.0</td>\n",
       "      <td>2.5</td>\n",
       "      <td>1055.0</td>\n",
       "      <td>676.0</td>\n",
       "      <td>28</td>\n",
       "      <td>61.887366</td>\n",
       "    </tr>\n",
       "    <tr>\n",
       "      <th>2</th>\n",
       "      <td>332.5</td>\n",
       "      <td>142.5</td>\n",
       "      <td>0.0</td>\n",
       "      <td>228.0</td>\n",
       "      <td>0.0</td>\n",
       "      <td>932.0</td>\n",
       "      <td>594.0</td>\n",
       "      <td>270</td>\n",
       "      <td>40.269535</td>\n",
       "    </tr>\n",
       "    <tr>\n",
       "      <th>3</th>\n",
       "      <td>332.5</td>\n",
       "      <td>142.5</td>\n",
       "      <td>0.0</td>\n",
       "      <td>228.0</td>\n",
       "      <td>0.0</td>\n",
       "      <td>932.0</td>\n",
       "      <td>594.0</td>\n",
       "      <td>365</td>\n",
       "      <td>41.052780</td>\n",
       "    </tr>\n",
       "    <tr>\n",
       "      <th>4</th>\n",
       "      <td>198.6</td>\n",
       "      <td>132.4</td>\n",
       "      <td>0.0</td>\n",
       "      <td>192.0</td>\n",
       "      <td>0.0</td>\n",
       "      <td>978.4</td>\n",
       "      <td>825.5</td>\n",
       "      <td>360</td>\n",
       "      <td>44.296075</td>\n",
       "    </tr>\n",
       "  </tbody>\n",
       "</table>\n",
       "</div>"
      ],
      "text/plain": [
       "   Cement  BlastFurnaceSlag  FlyAsh  Water  Superplasticizer  CoarseAggregate  \\\n",
       "0   540.0               0.0     0.0  162.0               2.5           1040.0   \n",
       "1   540.0               0.0     0.0  162.0               2.5           1055.0   \n",
       "2   332.5             142.5     0.0  228.0               0.0            932.0   \n",
       "3   332.5             142.5     0.0  228.0               0.0            932.0   \n",
       "4   198.6             132.4     0.0  192.0               0.0            978.4   \n",
       "\n",
       "   FineAggregate  Age  Concretecompressivestrength  \n",
       "0          676.0   28                    79.986111  \n",
       "1          676.0   28                    61.887366  \n",
       "2          594.0  270                    40.269535  \n",
       "3          594.0  365                    41.052780  \n",
       "4          825.5  360                    44.296075  "
      ]
     },
     "execution_count": 3,
     "metadata": {},
     "output_type": "execute_result"
    }
   ],
   "source": [
    "# CODE HERE\n",
    "df = pd.read_csv('concrete.csv')\n",
    "df.head()"
   ]
  },
  {
   "cell_type": "code",
   "execution_count": null,
   "id": "7c2fdf97",
   "metadata": {
    "ExecuteTime": {
     "end_time": "2024-02-21T11:16:53.035992Z",
     "start_time": "2024-02-21T11:16:53.012386Z"
    }
   },
   "outputs": [],
   "source": []
  },
  {
   "cell_type": "markdown",
   "id": "e0646b98",
   "metadata": {},
   "source": [
    "위 데이터는 콘크리트 압축강도를 예측하기 위한 데이터셋으로 콘크리트 제작 시 사용한 혼합재료 및 연령을 feature로 수집한 데이터 입니다.  \n",
    "* 각 컬럼 데이터에 대한 설명은 아래와 같습니다.\n",
    "\n",
    "| columns name | 의미 | 단위 |\n",
    "|-|-|-|\n",
    "| Cement | 시멘트  | kg/m^3 |\n",
    "| BlastFurnaceSlag | 용광로슬래그 | kg/m^3 |\n",
    "| FlyAsh | 비산회 | kg/m^3 |\n",
    "| Water | 물 | kg/m^3 |\n",
    "| Superplasticizer | 고성능가소제 | kg/m^3 |\n",
    "| CoarseAggregate | 조골재 | kg/m^3 |\n",
    "| FineAggregate | 미세골재 | kg/m^3 |\n",
    "| Age | 연령 | 일(day) |\n",
    "| Concretecompressivestrength | 콘크리트압축강도 | MPa |"
   ]
  },
  {
   "cell_type": "markdown",
   "id": "cc591f31",
   "metadata": {},
   "source": [
    "## 데이터 shape 확인"
   ]
  },
  {
   "cell_type": "code",
   "execution_count": 4,
   "id": "298acae9",
   "metadata": {},
   "outputs": [
    {
     "data": {
      "text/plain": [
       "(1030, 9)"
      ]
     },
     "execution_count": 4,
     "metadata": {},
     "output_type": "execute_result"
    }
   ],
   "source": [
    "# CODE HERE\n",
    "df.shape"
   ]
  },
  {
   "cell_type": "code",
   "execution_count": null,
   "id": "5f0735a0",
   "metadata": {
    "ExecuteTime": {
     "end_time": "2024-02-21T12:17:01.594068Z",
     "start_time": "2024-02-21T12:17:01.585194Z"
    }
   },
   "outputs": [],
   "source": []
  },
  {
   "cell_type": "markdown",
   "id": "562f6256",
   "metadata": {},
   "source": [
    "## info() 메소드로 데이터의 대략적인 정보 확인"
   ]
  },
  {
   "cell_type": "code",
   "execution_count": 5,
   "id": "c6442746",
   "metadata": {},
   "outputs": [
    {
     "name": "stdout",
     "output_type": "stream",
     "text": [
      "<class 'pandas.core.frame.DataFrame'>\n",
      "RangeIndex: 1030 entries, 0 to 1029\n",
      "Data columns (total 9 columns):\n",
      " #   Column                       Non-Null Count  Dtype  \n",
      "---  ------                       --------------  -----  \n",
      " 0   Cement                       1030 non-null   float64\n",
      " 1   BlastFurnaceSlag             1030 non-null   float64\n",
      " 2   FlyAsh                       1030 non-null   float64\n",
      " 3   Water                        1030 non-null   float64\n",
      " 4   Superplasticizer             1030 non-null   float64\n",
      " 5   CoarseAggregate              1030 non-null   float64\n",
      " 6   FineAggregate                1030 non-null   float64\n",
      " 7   Age                          1030 non-null   int64  \n",
      " 8   Concretecompressivestrength  1030 non-null   float64\n",
      "dtypes: float64(8), int64(1)\n",
      "memory usage: 72.6 KB\n"
     ]
    }
   ],
   "source": [
    "# CODE HERE\n",
    "df.info()"
   ]
  },
  {
   "cell_type": "code",
   "execution_count": null,
   "id": "a3a6f348",
   "metadata": {
    "ExecuteTime": {
     "end_time": "2024-02-21T12:19:12.749602Z",
     "start_time": "2024-02-21T12:19:12.731688Z"
    }
   },
   "outputs": [],
   "source": []
  },
  {
   "cell_type": "markdown",
   "id": "4ba3e7c7",
   "metadata": {},
   "source": [
    "결측데이터가 존재하지 않고 데이터 타입 또한 float, int형 데이터이기에 ML모델 학습을 위한 전처리 과정이 추가로 필요하지 않을 것 같습니다.  \n",
    "데이터 분할 과정을 바로 수행하겠습니다."
   ]
  },
  {
   "cell_type": "markdown",
   "id": "66df0b4c",
   "metadata": {
    "ExecuteTime": {
     "end_time": "2024-02-21T12:15:14.681500Z",
     "start_time": "2024-02-21T12:15:14.675791Z"
    }
   },
   "source": [
    "## 타겟데이터 분할\n",
    "**콘크리트압축강도를 예측하기 위한 모델링을 위해 타겟 데이터를 분할 합니다.**"
   ]
  },
  {
   "cell_type": "code",
   "execution_count": 6,
   "id": "46e41672",
   "metadata": {},
   "outputs": [
    {
     "data": {
      "text/html": [
       "<div>\n",
       "<style scoped>\n",
       "    .dataframe tbody tr th:only-of-type {\n",
       "        vertical-align: middle;\n",
       "    }\n",
       "\n",
       "    .dataframe tbody tr th {\n",
       "        vertical-align: top;\n",
       "    }\n",
       "\n",
       "    .dataframe thead th {\n",
       "        text-align: right;\n",
       "    }\n",
       "</style>\n",
       "<table border=\"1\" class=\"dataframe\">\n",
       "  <thead>\n",
       "    <tr style=\"text-align: right;\">\n",
       "      <th></th>\n",
       "      <th>Cement</th>\n",
       "      <th>BlastFurnaceSlag</th>\n",
       "      <th>FlyAsh</th>\n",
       "      <th>Water</th>\n",
       "      <th>Superplasticizer</th>\n",
       "      <th>CoarseAggregate</th>\n",
       "      <th>FineAggregate</th>\n",
       "      <th>Age</th>\n",
       "    </tr>\n",
       "  </thead>\n",
       "  <tbody>\n",
       "    <tr>\n",
       "      <th>0</th>\n",
       "      <td>540.0</td>\n",
       "      <td>0.0</td>\n",
       "      <td>0.0</td>\n",
       "      <td>162.0</td>\n",
       "      <td>2.5</td>\n",
       "      <td>1040.0</td>\n",
       "      <td>676.0</td>\n",
       "      <td>28</td>\n",
       "    </tr>\n",
       "    <tr>\n",
       "      <th>1</th>\n",
       "      <td>540.0</td>\n",
       "      <td>0.0</td>\n",
       "      <td>0.0</td>\n",
       "      <td>162.0</td>\n",
       "      <td>2.5</td>\n",
       "      <td>1055.0</td>\n",
       "      <td>676.0</td>\n",
       "      <td>28</td>\n",
       "    </tr>\n",
       "    <tr>\n",
       "      <th>2</th>\n",
       "      <td>332.5</td>\n",
       "      <td>142.5</td>\n",
       "      <td>0.0</td>\n",
       "      <td>228.0</td>\n",
       "      <td>0.0</td>\n",
       "      <td>932.0</td>\n",
       "      <td>594.0</td>\n",
       "      <td>270</td>\n",
       "    </tr>\n",
       "    <tr>\n",
       "      <th>3</th>\n",
       "      <td>332.5</td>\n",
       "      <td>142.5</td>\n",
       "      <td>0.0</td>\n",
       "      <td>228.0</td>\n",
       "      <td>0.0</td>\n",
       "      <td>932.0</td>\n",
       "      <td>594.0</td>\n",
       "      <td>365</td>\n",
       "    </tr>\n",
       "    <tr>\n",
       "      <th>4</th>\n",
       "      <td>198.6</td>\n",
       "      <td>132.4</td>\n",
       "      <td>0.0</td>\n",
       "      <td>192.0</td>\n",
       "      <td>0.0</td>\n",
       "      <td>978.4</td>\n",
       "      <td>825.5</td>\n",
       "      <td>360</td>\n",
       "    </tr>\n",
       "    <tr>\n",
       "      <th>...</th>\n",
       "      <td>...</td>\n",
       "      <td>...</td>\n",
       "      <td>...</td>\n",
       "      <td>...</td>\n",
       "      <td>...</td>\n",
       "      <td>...</td>\n",
       "      <td>...</td>\n",
       "      <td>...</td>\n",
       "    </tr>\n",
       "    <tr>\n",
       "      <th>1025</th>\n",
       "      <td>276.4</td>\n",
       "      <td>116.0</td>\n",
       "      <td>90.3</td>\n",
       "      <td>179.6</td>\n",
       "      <td>8.9</td>\n",
       "      <td>870.1</td>\n",
       "      <td>768.3</td>\n",
       "      <td>28</td>\n",
       "    </tr>\n",
       "    <tr>\n",
       "      <th>1026</th>\n",
       "      <td>322.2</td>\n",
       "      <td>0.0</td>\n",
       "      <td>115.6</td>\n",
       "      <td>196.0</td>\n",
       "      <td>10.4</td>\n",
       "      <td>817.9</td>\n",
       "      <td>813.4</td>\n",
       "      <td>28</td>\n",
       "    </tr>\n",
       "    <tr>\n",
       "      <th>1027</th>\n",
       "      <td>148.5</td>\n",
       "      <td>139.4</td>\n",
       "      <td>108.6</td>\n",
       "      <td>192.7</td>\n",
       "      <td>6.1</td>\n",
       "      <td>892.4</td>\n",
       "      <td>780.0</td>\n",
       "      <td>28</td>\n",
       "    </tr>\n",
       "    <tr>\n",
       "      <th>1028</th>\n",
       "      <td>159.1</td>\n",
       "      <td>186.7</td>\n",
       "      <td>0.0</td>\n",
       "      <td>175.6</td>\n",
       "      <td>11.3</td>\n",
       "      <td>989.6</td>\n",
       "      <td>788.9</td>\n",
       "      <td>28</td>\n",
       "    </tr>\n",
       "    <tr>\n",
       "      <th>1029</th>\n",
       "      <td>260.9</td>\n",
       "      <td>100.5</td>\n",
       "      <td>78.3</td>\n",
       "      <td>200.6</td>\n",
       "      <td>8.6</td>\n",
       "      <td>864.5</td>\n",
       "      <td>761.5</td>\n",
       "      <td>28</td>\n",
       "    </tr>\n",
       "  </tbody>\n",
       "</table>\n",
       "<p>1030 rows × 8 columns</p>\n",
       "</div>"
      ],
      "text/plain": [
       "      Cement  BlastFurnaceSlag  FlyAsh  Water  Superplasticizer  \\\n",
       "0      540.0               0.0     0.0  162.0               2.5   \n",
       "1      540.0               0.0     0.0  162.0               2.5   \n",
       "2      332.5             142.5     0.0  228.0               0.0   \n",
       "3      332.5             142.5     0.0  228.0               0.0   \n",
       "4      198.6             132.4     0.0  192.0               0.0   \n",
       "...      ...               ...     ...    ...               ...   \n",
       "1025   276.4             116.0    90.3  179.6               8.9   \n",
       "1026   322.2               0.0   115.6  196.0              10.4   \n",
       "1027   148.5             139.4   108.6  192.7               6.1   \n",
       "1028   159.1             186.7     0.0  175.6              11.3   \n",
       "1029   260.9             100.5    78.3  200.6               8.6   \n",
       "\n",
       "      CoarseAggregate  FineAggregate  Age  \n",
       "0              1040.0          676.0   28  \n",
       "1              1055.0          676.0   28  \n",
       "2               932.0          594.0  270  \n",
       "3               932.0          594.0  365  \n",
       "4               978.4          825.5  360  \n",
       "...               ...            ...  ...  \n",
       "1025            870.1          768.3   28  \n",
       "1026            817.9          813.4   28  \n",
       "1027            892.4          780.0   28  \n",
       "1028            989.6          788.9   28  \n",
       "1029            864.5          761.5   28  \n",
       "\n",
       "[1030 rows x 8 columns]"
      ]
     },
     "execution_count": 6,
     "metadata": {},
     "output_type": "execute_result"
    }
   ],
   "source": [
    "# CODE HERE\n",
    "y = df['Concretecompressivestrength']\n",
    "X = df.drop(['Concretecompressivestrength'], axis=1)\n",
    "X"
   ]
  },
  {
   "cell_type": "code",
   "execution_count": 7,
   "id": "5f093c70",
   "metadata": {},
   "outputs": [],
   "source": [
    "# 출력 결과값 없음"
   ]
  },
  {
   "cell_type": "markdown",
   "id": "62b5a746",
   "metadata": {},
   "source": [
    "## 학습데이터 분할\n",
    "**test 데이터셋의 비율을 25%, random_state=42 로 동일한 데이터가 학습 될 수 있도록 데이터 분할을 수행합니다.**  \n",
    "**데이터 분할 후 생성 된 X_train, X_test, y_train, y_test 데이터 셋의 shape을 순서대로 확인합니다.**"
   ]
  },
  {
   "cell_type": "code",
   "execution_count": 7,
   "id": "90533933",
   "metadata": {},
   "outputs": [
    {
     "data": {
      "text/plain": [
       "((772, 8), (258, 8), (772,), (258,))"
      ]
     },
     "execution_count": 7,
     "metadata": {},
     "output_type": "execute_result"
    }
   ],
   "source": [
    "# CODE HERE\n",
    "X_train, X_test, y_train, y_test = train_test_split(X, y, test_size=0.25, random_state=42)\n",
    "X_train.shape, X_test.shape, y_train.shape, y_test.shape\n"
   ]
  },
  {
   "cell_type": "code",
   "execution_count": null,
   "id": "6159ab95",
   "metadata": {
    "ExecuteTime": {
     "end_time": "2024-02-21T12:38:07.281392Z",
     "start_time": "2024-02-21T12:38:07.272906Z"
    }
   },
   "outputs": [],
   "source": []
  },
  {
   "cell_type": "markdown",
   "id": "8005899e",
   "metadata": {
    "ExecuteTime": {
     "end_time": "2024-02-21T12:34:39.895038Z",
     "start_time": "2024-02-21T12:34:39.889260Z"
    }
   },
   "source": [
    "## 검증데이터 셋 생성\n",
    "**비교우위에 있는 모델의 default 성능 비교를 위해 X_train, y_train 데이터를 분할하여 validation set 생성을 수행합니다.**  \n",
    "**train_test_split 함수에 X_train, y_train 데이터를 전달하여 생성하며 검증셋의 비율을 30%, random_state=42 설정하여 작업합니다.**  \n",
    "**작업이후 X_train2, X_val, y_train2, y_val 데이터셋의 shape을 순서대로 확인합니다.**"
   ]
  },
  {
   "cell_type": "code",
   "execution_count": 8,
   "id": "342d84ce",
   "metadata": {},
   "outputs": [
    {
     "data": {
      "text/plain": [
       "((540, 8), (232, 8), (540,), (232,))"
      ]
     },
     "execution_count": 8,
     "metadata": {},
     "output_type": "execute_result"
    }
   ],
   "source": [
    "# CODE HERE\n",
    "X_train2, X_val, y_train2, y_val = train_test_split(X_train, y_train, test_size=0.3, random_state=42)\n",
    "X_train2.shape, X_val.shape, y_train2.shape, y_val.shape\n"
   ]
  },
  {
   "cell_type": "code",
   "execution_count": null,
   "id": "ffeef412",
   "metadata": {
    "ExecuteTime": {
     "end_time": "2024-02-21T12:38:25.261079Z",
     "start_time": "2024-02-21T12:38:25.235794Z"
    }
   },
   "outputs": [],
   "source": []
  },
  {
   "cell_type": "markdown",
   "id": "200bc307",
   "metadata": {},
   "source": [
    "## 모델 서칭\n",
    "**생성한 validation set을 사용하여 LinearRegression, DecisionTreeRegressor, RandomForestRegressor, XGBRegressor 모델의 기본성능을 비교하고 default성능이 가장 우수한 모델을 선정 해봅니다.**  \n",
    "**모델 서칭 이후 해당 모델의 r2 score 와 rmse를 출력해봅시다.**"
   ]
  },
  {
   "cell_type": "code",
   "execution_count": 9,
   "id": "6d93f39e",
   "metadata": {},
   "outputs": [
    {
     "name": "stdout",
     "output_type": "stream",
     "text": [
      "XGBRegressor(base_score=None, booster=None, callbacks=None,\n",
      "             colsample_bylevel=None, colsample_bynode=None,\n",
      "             colsample_bytree=None, device=None, early_stopping_rounds=None,\n",
      "             enable_categorical=False, eval_metric=None, feature_types=None,\n",
      "             gamma=None, grow_policy=None, importance_type=None,\n",
      "             interaction_constraints=None, learning_rate=None, max_bin=None,\n",
      "             max_cat_threshold=None, max_cat_to_onehot=None,\n",
      "             max_delta_step=None, max_depth=None, max_leaves=None,\n",
      "             min_child_weight=None, missing=nan, monotone_constraints=None,\n",
      "             multi_strategy=None, n_estimators=None, n_jobs=None,\n",
      "             num_parallel_tree=None, random_state=42, ...) XGBRegressor(base_score=None, booster=None, callbacks=None,\n",
      "             colsample_bylevel=None, colsample_bynode=None,\n",
      "             colsample_bytree=None, device=None, early_stopping_rounds=None,\n",
      "             enable_categorical=False, eval_metric=None, feature_types=None,\n",
      "             gamma=None, grow_policy=None, importance_type=None,\n",
      "             interaction_constraints=None, learning_rate=None, max_bin=None,\n",
      "             max_cat_threshold=None, max_cat_to_onehot=None,\n",
      "             max_delta_step=None, max_depth=None, max_leaves=None,\n",
      "             min_child_weight=None, missing=nan, monotone_constraints=None,\n",
      "             multi_strategy=None, n_estimators=None, n_jobs=None,\n",
      "             num_parallel_tree=None, random_state=42, ...)\n",
      "0.912471552160593 4.94134263842851\n"
     ]
    }
   ],
   "source": [
    "# CODE HERE\n",
    "# 아래에 자유롭게 해당 작업 코드를 작성하시면 됩니다.\n",
    "\n",
    "# LinearRegression, DecisionTreeRegressor, RandomForestRegressor, XGBRegressor\n",
    "from sklearn.metrics import root_mean_squared_error, r2_score\n",
    "\n",
    "\n",
    "\n",
    "lr = LinearRegression()\n",
    "dtr = DecisionTreeRegressor(random_state=42)\n",
    "rfr = RandomForestRegressor(random_state=42)\n",
    "xgr = XGBRegressor(random_state=42)\n",
    "\n",
    "\n",
    "\n",
    "\n",
    "# lr.fit(X_train2, y_train2)\n",
    "# lr_pred = lr.predict(X_val)\n",
    "# lr_r2 = r2_score(y_val, lr_pred)\n",
    "# lr_rmse = root_mean_squared_error(y_val, lr_pred)\n",
    "# print(lr_r2, lr_rmse)\n",
    "\n",
    "# dtr.fit(X_train2, y_train2)\n",
    "# dtr_pred = dtr.predict(X_val)\n",
    "# dtr_rmse = root_mean_squared_error(y_val, dtr_pred)\n",
    "# dtr_r2 = r2_score(y_val, dtr_pred)\n",
    "# print(dtr_r2, dtr_rmse)\n",
    "\n",
    "# rfr.fit(X_train2, y_train2)\n",
    "# rfr_pred = rfr.predict(X_val)\n",
    "# rfr_rmse = root_mean_squared_error(y_val, rfr_pred)\n",
    "# rfr_r2 = r2_score(y_val, rfr_pred)\n",
    "# print(rfr_r2, rfr_rmse)\n",
    "\n",
    "# xgr.fit(X_train2, y_train2)\n",
    "# xgr_pred = xgr.predict(X_val)\n",
    "# xgr_rmse = root_mean_squared_error(y_val, xgr_pred)\n",
    "# xgr_r2 = r2_score(y_val, xgr_pred)\n",
    "# print(xgr_r2, xgr_rmse)\n",
    "\n",
    "\n",
    "model_list = [lr, dtr, rfr, xgr]\n",
    "\n",
    "best_r2 = 0\n",
    "best_rmse = 99999\n",
    "best_model_r2 = None\n",
    "best_model_rmse = None\n",
    "\n",
    "for est in model_list:\n",
    "    est.fit(X_train2, y_train2)\n",
    "    est_pred = est.predict(X_val)\n",
    "    est_rmse = root_mean_squared_error(y_val, est_pred)\n",
    "    est_r2 = r2_score(y_val, est_pred)\n",
    "    if est_rmse < best_rmse :\n",
    "        best_rmse = est_rmse\n",
    "        best_model_rmse = est\n",
    "    if est_r2 > best_r2 :\n",
    "        best_r2 = est_r2\n",
    "        best_model_r2 = est\n",
    "\n",
    "print(best_model_r2, best_model_rmse)\n",
    "print(best_r2, best_rmse)\n",
    "\n",
    "\n"
   ]
  },
  {
   "cell_type": "code",
   "execution_count": 11,
   "id": "94df9ef9",
   "metadata": {
    "ExecuteTime": {
     "end_time": "2024-02-21T13:59:07.335487Z",
     "start_time": "2024-02-21T13:59:07.104928Z"
    },
    "scrolled": true
   },
   "outputs": [],
   "source": [
    "# 출력 결과값 다를 수 있음\n"
   ]
  },
  {
   "cell_type": "markdown",
   "id": "db28dee0",
   "metadata": {},
   "source": [
    "위에서 확인한 모델이 개선을 위해 비교대상이 되는 베이스라인 모델입니다. 이후 과정에서는 이 베이스라인보다 더 우수한 모델을 생성함을 목표로 합니다."
   ]
  },
  {
   "cell_type": "markdown",
   "id": "f6ed42ce",
   "metadata": {},
   "source": [
    "# 파라메터 서칭\n",
    "베이스라인 모델의 파라메터 서칭을 통해 더 우수한 성능의 모델을 구현합니다.  \n",
    "## GridSearchCV를 사용하기 위한 모델 생성 및 파라메터 그리드 생성을 해 봅시다."
   ]
  },
  {
   "cell_type": "code",
   "execution_count": 10,
   "id": "3458e0e1",
   "metadata": {
    "ExecuteTime": {
     "end_time": "2024-02-21T13:52:05.020603Z",
     "start_time": "2024-02-21T13:50:22.694242Z"
    }
   },
   "outputs": [],
   "source": [
    "# CODE HERE\n",
    "# 아래에 자유롭게 해당 작업 코드를 작성하시면 됩니다.\n",
    "# 파라메터 서칭을 여러번 하시더라도 서칭 하신 그리드의 히스토리는 주석으로 남겨주세요\n",
    "\n",
    "\n",
    "\n",
    "# import pandas as pd\n",
    "# import numpy as np\n",
    "from sklearn.model_selection import train_test_split, GridSearchCV\n",
    "# from sklearn.preprocessing import StandardScaler\n",
    "# from sklearn.ensemble import RandomForestRegressor, GradientBoostingRegressor\n",
    "# from xgboost import XGBRegressor\n",
    "# from sklearn.metrics import root_mean_squared_error\n",
    "# from sklearn.pipeline import Pipeline\n",
    "\n",
    "\n",
    "\n",
    "\n",
    "# XGBoost 모델 및 파라미터 그리드 설정\n",
    "xgr = XGBRegressor(random_state=42)\n",
    "# params ={\n",
    "#     'max_depth' : [3, 4, 5],\n",
    "#     'subsample' : [0.7, 0.8, 0.9],\n",
    "#     'colsample_bytree' : [0.6, 0.7, 0.8, 0.9],\n",
    "#     'n_estimators' : [200, 300, 400, 500, 600],\n",
    "#     'learning_rate' : [0.1]\n",
    "# }\n",
    "\n",
    "\n",
    "# params ={\n",
    "#     'max_depth' : [2, 3, 4],\n",
    "#     'subsample' : [0.75, 0.8, 0.85],\n",
    "#     'colsample_bytree' : [0.6, 0.65, 0.7, 0.75, 0.8],\n",
    "#     'n_estimators' : [550, 600, 650, 700, 750],\n",
    "#     'learning_rate' : [0.1]\n",
    "# }\n",
    "\n",
    "\n",
    "# params ={\n",
    "#     'max_depth' : [3],\n",
    "#     'subsample' : [0.825, 0.85, 0.875, 0.9],\n",
    "#     'colsample_bytree' : [0.63, 0.64, 0.65, 0.66, 0.67],\n",
    "#     'n_estimators' : [630, 640, 650, 660, 670],\n",
    "#     'learning_rate' : [0.1]\n",
    "# }\n",
    "\n",
    "params ={\n",
    "    'max_depth' : [3],\n",
    "    'subsample' : [0.84, 0.85, 0.86],\n",
    "    'colsample_bytree' : [0.62, 0.625, 0.63, 0.635],\n",
    "    'n_estimators' : [670, 675, 680, 685],\n",
    "    'learning_rate' : [0.1]\n",
    "}\n",
    "\n",
    "\n",
    "\n",
    "# GridSearchCV 설정 및 실행\n",
    "\n",
    "grid = GridSearchCV(estimator=xgr,\n",
    "                    param_grid=params,\n",
    "                    scoring='neg_mean_squared_error',\n",
    "                    verbose=2,\n",
    "                    n_jobs=-1,\n",
    "                    cv=5)\n",
    "\n",
    "\n",
    "\n"
   ]
  },
  {
   "cell_type": "code",
   "execution_count": null,
   "id": "00d4622e",
   "metadata": {},
   "outputs": [],
   "source": [
    "# 출력 결과값 없음"
   ]
  },
  {
   "cell_type": "markdown",
   "id": "85904260",
   "metadata": {},
   "source": [
    "## GridSearchCV 모델 생성\n",
    "**GridSearchCV를 사용하여 파라메터 서칭을 진행합니다. 평가지표는 모델링 목적에 맞게 rmse를 사용하여 모델을 개선합니다.**  \n",
    "**추가적으로 5fold cross validation을 수행할 수 있도록 파라메터 설정을 해주세요**  \n",
    "**파라메터 조합을 딥하게 서칭하면 학습 시간이 오래 소요됩니다. 부분적으로 생성 한 범위의 조합을 여러번 학습하여 서칭하심을 추천드립니다.**"
   ]
  },
  {
   "cell_type": "code",
   "execution_count": 11,
   "id": "fa06ba9a",
   "metadata": {},
   "outputs": [
    {
     "name": "stdout",
     "output_type": "stream",
     "text": [
      "Fitting 5 folds for each of 48 candidates, totalling 240 fits\n",
      "Best parameters: {'colsample_bytree': 0.625, 'learning_rate': 0.1, 'max_depth': 3, 'n_estimators': 680, 'subsample': 0.85}\n"
     ]
    }
   ],
   "source": [
    "# CODE HERE\n",
    "grid.fit(X_train, y_train)\n",
    "print(\"Best parameters:\", grid.best_params_)\n",
    "best_model = grid.best_estimator_\n",
    "y_pred = best_model.predict(X_test)\n"
   ]
  },
  {
   "cell_type": "code",
   "execution_count": null,
   "id": "dddcd344",
   "metadata": {
    "ExecuteTime": {
     "end_time": "2024-02-21T13:52:05.020603Z",
     "start_time": "2024-02-21T13:50:22.694242Z"
    }
   },
   "outputs": [],
   "source": [
    "# 출력 결과값 숨김"
   ]
  },
  {
   "cell_type": "markdown",
   "id": "960458a7",
   "metadata": {},
   "source": [
    "## 학습이 완료 된 모델에 test데이터를 적용하여 예측값을 생성한 후 r2 score, rmse를 출력합니다."
   ]
  },
  {
   "cell_type": "code",
   "execution_count": 12,
   "id": "df51e1d5",
   "metadata": {
    "ExecuteTime": {
     "end_time": "2024-02-21T14:16:48.607497Z",
     "start_time": "2024-02-21T14:16:48.599238Z"
    }
   },
   "outputs": [
    {
     "name": "stdout",
     "output_type": "stream",
     "text": [
      "Best parameters: {'colsample_bytree': 0.625, 'learning_rate': 0.1, 'max_depth': 3, 'n_estimators': 680, 'subsample': 0.85}\n",
      "RMSE: 3.9025166941275256\n",
      "r2: 0.9437759414452838\n"
     ]
    }
   ],
   "source": [
    "# CODE HERE\n",
    "# 최적의 모델로 예측\n",
    "# 0.912471552160593 4.94134263842851\n",
    "\n",
    "# RMSE 계산\n",
    "rmse = root_mean_squared_error(y_test, y_pred)\n",
    "r2_ = r2_score(y_test, y_pred)\n",
    "\n",
    "print(f\"Best parameters: {grid.best_params_}\")\n",
    "print(f\"RMSE: {rmse}\")\n",
    "print(f\"r2: {r2_}\")"
   ]
  },
  {
   "cell_type": "code",
   "execution_count": 148,
   "id": "3abca131",
   "metadata": {
    "ExecuteTime": {
     "end_time": "2024-02-21T14:16:48.800711Z",
     "start_time": "2024-02-21T14:16:48.797800Z"
    }
   },
   "outputs": [
    {
     "name": "stdout",
     "output_type": "stream",
     "text": [
      "BEST R2 score : 0.9403917642647227\n",
      "BEST RMSE : 4.018248649895231\n"
     ]
    }
   ],
   "source": [
    "# 출력 결과값 다를 수 있음\n",
    "# 위에서 선정한 베이스라인 결과값 보다 좋은 스코어를 보이는 파라메터를 찾아주시면 되겠습니다.\n"
   ]
  },
  {
   "cell_type": "markdown",
   "id": "84049686",
   "metadata": {},
   "source": [
    "## Polynominal Features 적용\n",
    "위에서 생성한 모델의 예측성능도 뛰어나지만 추가적으로 적용할 수 있는 전처리 방법을 사용하여 모델의 성능을 조금 더 끌어올려보겠습니다.  \n",
    "**PolyminalFeatures 전처리 모델을 X_train, X_test 데이터에 적용하여 2차항에 해당하는 파생변수를 생성합니다.**  \n",
    "**작업이후 변환 된 X_train, X_test 데이터의 shape을 순서대로 확인합니다.**"
   ]
  },
  {
   "cell_type": "code",
   "execution_count": 13,
   "id": "36a92247",
   "metadata": {},
   "outputs": [
    {
     "data": {
      "text/plain": [
       "((772, 44), (258, 44))"
      ]
     },
     "execution_count": 13,
     "metadata": {},
     "output_type": "execute_result"
    }
   ],
   "source": [
    "# CODE HERE\n",
    "# 필요모델 import\n",
    "from sklearn.preprocessing import PolynomialFeatures\n",
    "\n",
    "polyf = PolynomialFeatures(degree=2, include_bias=False)\n",
    "\n",
    "'''\n",
    "파라메터\n",
    "degree=2 : 차수설정\n",
    "include_bias=False : 상수항 제거(필수)\n",
    "'''\n",
    "\n",
    "\n",
    "# X_train에 해당하는 변수를 학습과 동시에 적용\n",
    "polyf.fit(X_train)  #머신 러닝 모델이 아니기에 정답 필요 없음. 변환 대상 데이터만 학습\n",
    "\n",
    "\n",
    "polyf.transform(X_train)\n",
    "\n",
    "# 변환식 반환\n",
    "polyf.get_feature_names_out()\n",
    "\n",
    "# 데이터프레임으로 제작 후 데이터 확인\n",
    "poly_X_train = pd.DataFrame(polyf.transform(X_train), columns=polyf.get_feature_names_out())\n",
    "\n",
    "\n",
    "\n",
    "poly_X_test = pd.DataFrame(polyf.transform(X_test), columns=polyf.get_feature_names_out())\n",
    "\n",
    "poly_X_train.shape, poly_X_test.shape\n",
    "\n"
   ]
  },
  {
   "cell_type": "code",
   "execution_count": 149,
   "id": "02043e71",
   "metadata": {
    "ExecuteTime": {
     "end_time": "2024-02-21T14:31:45.436201Z",
     "start_time": "2024-02-21T14:31:45.415749Z"
    }
   },
   "outputs": [
    {
     "data": {
      "text/plain": [
       "((772, 44), (258, 44))"
      ]
     },
     "execution_count": 149,
     "metadata": {},
     "output_type": "execute_result"
    }
   ],
   "source": []
  },
  {
   "cell_type": "markdown",
   "id": "d4236f36",
   "metadata": {},
   "source": [
    "## Polynominal Features GridSearchCV\n",
    "**위에서 생성한 다항변수를 사용하여 그리드 서치를 다시 수행합니다.**"
   ]
  },
  {
   "cell_type": "code",
   "execution_count": 14,
   "id": "65181274",
   "metadata": {},
   "outputs": [
    {
     "name": "stdout",
     "output_type": "stream",
     "text": [
      "Fitting 5 folds for each of 9 candidates, totalling 45 fits\n",
      "Best parameters: {'colsample_bytree': 0.6144, 'learning_rate': 0.1, 'max_depth': 3, 'n_estimators': 675, 'subsample': 0.8505}\n"
     ]
    }
   ],
   "source": [
    "# CODE HERE\n",
    "# XGBoost 모델 및 파라미터 그리드 설정\n",
    "xgr = XGBRegressor(random_state=42)\n",
    "\n",
    "\n",
    "# params ={\n",
    "#     'max_depth' : [3],\n",
    "#     'subsample' : [0.84, 0.85, 0.86],\n",
    "#     'colsample_bytree' : [0.62, 0.625, 0.63, 0.635],\n",
    "#     'n_estimators' : [670, 675, 680, 685],\n",
    "#     'learning_rate' : [0.1]\n",
    "# }\n",
    "\n",
    "# params ={\n",
    "#     'max_depth' : [3],\n",
    "#     'subsample' : [0.845, 0.85, 0.855],\n",
    "#     'colsample_bytree' : [0.605, 0.61, 0.615, 0.62, 0.625],\n",
    "#     'n_estimators' : [671, 673, 675, 677],\n",
    "#     'learning_rate' : [0.1]\n",
    "# }\n",
    "\n",
    "# params ={\n",
    "#     'max_depth' : [3],\n",
    "#     'subsample' : [0.849, 0.85, 0.851],\n",
    "#     'colsample_bytree' : [0.6145, 0.615, 0.6155],\n",
    "#     'n_estimators' : [674, 675, 676],\n",
    "#     'learning_rate' : [0.1]\n",
    "# }\n",
    "\n",
    "# RMSE: 3.9364251626709157\n",
    "# r2: 0.9427946494148012\n",
    "\n",
    "\n",
    "\n",
    "# params ={\n",
    "#     'max_depth' : [2, 3, 4, 5],\n",
    "#     'subsample' : [0.85],\n",
    "#     'colsample_bytree' : [0.6145, 0.615],\n",
    "#     'n_estimators' : [675],\n",
    "#     'learning_rate' : [0.05, 0.1, 0.15]\n",
    "# }\n",
    "\n",
    "\n",
    "params ={\n",
    "    'max_depth' : [3],\n",
    "    'subsample' : [0.8495, 0.85, 0.8505],\n",
    "    'colsample_bytree' : [0.6144, 0.6145, 0.6146],\n",
    "    'n_estimators' : [675],\n",
    "    'learning_rate' : [0.1]\n",
    "}\n",
    "\n",
    "\n",
    "# GridSearchCV 설정 및 실행\n",
    "\n",
    "grid = GridSearchCV(estimator=xgr,\n",
    "                    param_grid=params,\n",
    "                    scoring='neg_mean_squared_error',\n",
    "                    verbose=2,\n",
    "                    n_jobs=-1,\n",
    "                    cv=5)\n",
    "\n",
    "\n",
    "grid.fit(poly_X_train, y_train)\n",
    "print(\"Best parameters:\", grid.best_params_)\n",
    "best_model = grid.best_estimator_\n",
    "y_pred = best_model.predict(poly_X_test)"
   ]
  },
  {
   "cell_type": "code",
   "execution_count": null,
   "id": "7ef9bb5b",
   "metadata": {},
   "outputs": [],
   "source": [
    "# 출력 결과값 숨김"
   ]
  },
  {
   "cell_type": "markdown",
   "id": "2d5e4caf",
   "metadata": {},
   "source": [
    "## best parameter 확인 및 r2 score, rmse를 출력합니다."
   ]
  },
  {
   "cell_type": "code",
   "execution_count": 15,
   "id": "d593aed9",
   "metadata": {},
   "outputs": [
    {
     "name": "stdout",
     "output_type": "stream",
     "text": [
      "RMSE: 3.8873536845309533\n",
      "r2: 0.9442120034971683\n"
     ]
    }
   ],
   "source": [
    "# CODE HERE\n",
    "# RMSE 계산\n",
    "rmse = root_mean_squared_error(y_test, y_pred)\n",
    "r2_ = r2_score(y_test, y_pred)\n",
    "\n",
    "# print(f\"Best parameters: {grid.best_params_}\")\n",
    "print(f\"RMSE: {rmse}\")\n",
    "print(f\"r2: {r2_}\")\n",
    "\n",
    "# 기존 결과\n",
    "# RMSE: 3.9025166941275256\n",
    "# r2: 0.9437759414452838"
   ]
  },
  {
   "cell_type": "code",
   "execution_count": 150,
   "id": "f831e8cb",
   "metadata": {
    "ExecuteTime": {
     "end_time": "2024-02-21T14:36:42.931278Z",
     "start_time": "2024-02-21T14:36:42.927081Z"
    }
   },
   "outputs": [
    {
     "name": "stdout",
     "output_type": "stream",
     "text": [
      "BEST R2 score : 0.9447297174951115\n",
      "BEST RMSE : 3.8692742728797382\n"
     ]
    }
   ],
   "source": [
    "# best_param 출력결과 숨김\n",
    "# 출력 결과값 다를 수 있음\n"
   ]
  },
  {
   "cell_type": "markdown",
   "id": "06aca030",
   "metadata": {},
   "source": [
    "# 수고하셨습니다!!"
   ]
  }
 ],
 "metadata": {
  "kernelspec": {
   "display_name": "Python 3 (ipykernel)",
   "language": "python",
   "name": "python3"
  },
  "language_info": {
   "codemirror_mode": {
    "name": "ipython",
    "version": 3
   },
   "file_extension": ".py",
   "mimetype": "text/x-python",
   "name": "python",
   "nbconvert_exporter": "python",
   "pygments_lexer": "ipython3",
   "version": "3.11.5"
  },
  "toc": {
   "base_numbering": 1,
   "nav_menu": {},
   "number_sections": true,
   "sideBar": true,
   "skip_h1_title": true,
   "title_cell": "Table of Contents",
   "title_sidebar": "Contents",
   "toc_cell": false,
   "toc_position": {},
   "toc_section_display": true,
   "toc_window_display": false
  }
 },
 "nbformat": 4,
 "nbformat_minor": 5
}
