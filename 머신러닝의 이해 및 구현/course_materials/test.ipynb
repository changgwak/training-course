{
 "cells": [
  {
   "cell_type": "code",
   "execution_count": 1,
   "metadata": {},
   "outputs": [
    {
     "name": "stdout",
     "output_type": "stream",
     "text": [
      "hello\n"
     ]
    }
   ],
   "source": [
    "print(\"hello\")"
   ]
  },
  {
   "cell_type": "code",
   "execution_count": 3,
   "metadata": {},
   "outputs": [
    {
     "name": "stdout",
     "output_type": "stream",
     "text": [
      "\n",
      "   _____         _ _       \n",
      "  / ____|       | | |      \n",
      " | |  __   ___  | | | ___  \n",
      " | | |_ | / _ \\ | | |/ _ \\ \n",
      " | |__| || (_) || | | (_) |\n",
      "  \\_____| \\___/ |_|_|\\___/ \n",
      "\n",
      "Welcome to the Fancy Hello World!\n",
      "========================================\n",
      "Hello, colorful world!\n",
      "========================================\n",
      "Hello, rainbow world!\n"
     ]
    },
    {
     "name": "stderr",
     "output_type": "stream",
     "text": [
      "<>:7: SyntaxWarning: invalid escape sequence '\\ '\n",
      "<>:7: SyntaxWarning: invalid escape sequence '\\ '\n",
      "C:\\Users\\User\\AppData\\Local\\Temp\\ipykernel_796\\3081711564.py:7: SyntaxWarning: invalid escape sequence '\\ '\n",
      "  ascii_art = \"\"\"\n"
     ]
    }
   ],
   "source": [
    "from colorama import Fore, Style, init\n",
    "\n",
    "# Initialize colorama\n",
    "init(autoreset=True)\n",
    "\n",
    "# ASCII art\n",
    "ascii_art = \"\"\"\n",
    "   _____         _ _       \n",
    "  / ____|       | | |      \n",
    " | |  __   ___  | | | ___  \n",
    " | | |_ | / _ \\ | | |/ _ \\ \n",
    " | |__| || (_) || | | (_) |\n",
    "  \\_____| \\___/ |_|_|\\___/ \n",
    "\"\"\"\n",
    "\n",
    "# Print ASCII art in cyan\n",
    "print(Fore.CYAN + ascii_art)\n",
    "\n",
    "# Print a fancy greeting\n",
    "print(Fore.MAGENTA + Style.BRIGHT + \"Welcome to the Fancy Hello World!\")\n",
    "print(Fore.GREEN + \"=\" * 40)\n",
    "print(Fore.YELLOW + \"Hello, colorful world!\")\n",
    "print(Fore.GREEN + \"=\" * 40)\n",
    "\n",
    "# Print a rainbow message\n",
    "rainbow_colors = [Fore.RED, Fore.YELLOW, Fore.GREEN, Fore.CYAN, Fore.BLUE, Fore.MAGENTA]\n",
    "rainbow_text = \"Hello, rainbow world!\"\n",
    "for i, char in enumerate(rainbow_text):\n",
    "    print(rainbow_colors[i % len(rainbow_colors)] + char, end='')\n",
    "print(Style.RESET_ALL)"
   ]
  },
  {
   "cell_type": "code",
   "execution_count": 2,
   "metadata": {},
   "outputs": [
    {
     "ename": "ModuleNotFoundError",
     "evalue": "No module named 'pandas'",
     "output_type": "error",
     "traceback": [
      "\u001b[1;31m---------------------------------------------------------------------------\u001b[0m",
      "\u001b[1;31mModuleNotFoundError\u001b[0m                       Traceback (most recent call last)",
      "Cell \u001b[1;32mIn[2], line 1\u001b[0m\n\u001b[1;32m----> 1\u001b[0m \u001b[38;5;28;01mimport\u001b[39;00m \u001b[38;5;21;01mpandas\u001b[39;00m\n",
      "\u001b[1;31mModuleNotFoundError\u001b[0m: No module named 'pandas'"
     ]
    }
   ],
   "source": [
    "import pandas"
   ]
  },
  {
   "cell_type": "code",
   "execution_count": null,
   "metadata": {},
   "outputs": [],
   "source": [
    "import numpy as np\n",
    "from sklearn.datasets import make_classification\n",
    "from sklearn.model_selection import train_test_split\n",
    "from xgboost import XGBClassifier\n",
    "from sklearn.metrics import accuracy_score\n",
    "\n",
    "# Generate a sample dataset\n",
    "X, y = make_classification(n_samples=1000, n_features=20, n_classes=2, random_state=42)\n",
    "\n",
    "# Split the data into training and testing sets\n",
    "X_train, X_test, y_train, y_test = train_test_split(X, y, test_size=0.2, random_state=42)\n",
    "\n",
    "# Create and train the XGBoost classifier\n",
    "xgb_clf = XGBClassifier(n_estimators=100, learning_rate=0.1, random_state=42)\n",
    "xgb_clf.fit(X_train, y_train)\n",
    "\n",
    "# Make predictions on the test set\n",
    "y_pred = xgb_clf.predict(X_test)\n",
    "\n",
    "# Calculate the accuracy\n",
    "accuracy = accuracy_score(y_test, y_pred)\n",
    "\n",
    "print(f\"XGBoost Classifier Accuracy: {accuracy:.4f}\")\n",
    "\n",
    "# Feature importance\n",
    "feature_importance = xgb_clf.feature_importances_\n",
    "for i, importance in enumerate(feature_importance):\n",
    "    print(f\"Feature {i+1} importance: {importance:.4f}\")\n"
   ]
  },
  {
   "cell_type": "code",
   "execution_count": null,
   "metadata": {},
   "outputs": [],
   "source": []
  },
  {
   "cell_type": "code",
   "execution_count": null,
   "metadata": {},
   "outputs": [],
   "source": []
  },
  {
   "cell_type": "code",
   "execution_count": 1,
   "metadata": {},
   "outputs": [
    {
     "name": "stdout",
     "output_type": "stream",
     "text": [
      "Fitting 5 folds for each of 180 candidates, totalling 900 fits\n"
     ]
    },
    {
     "name": "stderr",
     "output_type": "stream",
     "text": [
      "c:\\Users\\User\\miniconda3\\envs\\ml\\Lib\\site-packages\\numpy\\ma\\core.py:2881: RuntimeWarning: invalid value encountered in cast\n",
      "  _data = np.array(data, dtype=dtype, copy=copy,\n"
     ]
    },
    {
     "name": "stdout",
     "output_type": "stream",
     "text": [
      "Best parameters: {'colsample_bytree': 0.6, 'learning_rate': 0.1, 'max_depth': 3, 'n_estimators': 600, 'subsample': 0.8}\n",
      "RMSE: 87.07088830481383\n"
     ]
    }
   ],
   "source": [
    "import pandas as pd\n",
    "import numpy as np\n",
    "from sklearn.model_selection import train_test_split, GridSearchCV\n",
    "from sklearn.preprocessing import StandardScaler\n",
    "from sklearn.ensemble import RandomForestRegressor, GradientBoostingRegressor\n",
    "from xgboost import XGBRegressor\n",
    "from sklearn.metrics import root_mean_squared_error\n",
    "from sklearn.pipeline import Pipeline\n",
    "\n",
    "# 데이터 로드\n",
    "df = pd.read_csv('./data/kospi.csv', encoding='cp949')\n",
    "\n",
    "# 결측치 처리\n",
    "df = df.dropna()\n",
    "\n",
    "# 특성과 타겟 분리\n",
    "y = df['코스피지수']\n",
    "X = df.drop(columns=['코스피지수'])\n",
    "\n",
    "# 데이터 분할\n",
    "X_train, X_test, y_train, y_test = train_test_split(X, y, test_size=0.3, random_state=42)\n",
    "\n",
    "\n",
    "\n",
    "# XGBoost 모델 및 파라미터 그리드 설정\n",
    "xgbr = XGBRegressor(random_state=42)\n",
    "params ={\n",
    "    'max_depth' : [3, 4, 5],\n",
    "    'subsample' : [0.7, 0.8, 0.9],\n",
    "    'colsample_bytree' : [0.6, 0.7, 0.8, 0.9],\n",
    "    'n_estimators' : [200, 300, 400, 500, 600],\n",
    "    'learning_rate' : [0.1]\n",
    "}\n",
    "\n",
    "\n",
    "\n",
    "# GridSearchCV 설정 및 실행\n",
    "\n",
    "grid = GridSearchCV(estimator=xgbr,\n",
    "                    param_grid=params,\n",
    "                    scoring='r2',\n",
    "                    verbose=2,\n",
    "                    n_jobs=-1,\n",
    "                    cv=5)\n",
    "\n",
    "grid.fit(X_train, y_train)\n",
    "\n",
    "\n",
    "# 최적의 모델로 예측\n",
    "best_model = grid.best_estimator_\n",
    "y_pred = best_model.predict(X_test)\n",
    "\n",
    "# RMSE 계산\n",
    "rmse = root_mean_squared_error(y_test, y_pred)\n",
    "\n",
    "print(f\"Best parameters: {grid.best_params_}\")\n",
    "print(f\"RMSE: {rmse}\")"
   ]
  },
  {
   "cell_type": "code",
   "execution_count": 2,
   "metadata": {},
   "outputs": [
    {
     "name": "stdout",
     "output_type": "stream",
     "text": [
      "Fitting 5 folds for each of 225 candidates, totalling 1125 fits\n"
     ]
    },
    {
     "name": "stderr",
     "output_type": "stream",
     "text": [
      "c:\\Users\\User\\miniconda3\\envs\\ml\\Lib\\site-packages\\numpy\\ma\\core.py:2881: RuntimeWarning: invalid value encountered in cast\n",
      "  _data = np.array(data, dtype=dtype, copy=copy,\n"
     ]
    },
    {
     "name": "stdout",
     "output_type": "stream",
     "text": [
      "Best parameters: {'colsample_bytree': 0.6, 'gamma': 0, 'learning_rate': 0.05, 'max_depth': 3, 'min_child_weight': 1, 'n_estimators': 800, 'subsample': 0.7}\n",
      "RMSE: 89.07472108940007\n"
     ]
    }
   ],
   "source": [
    "import pandas as pd\n",
    "import numpy as np\n",
    "from sklearn.model_selection import train_test_split, GridSearchCV\n",
    "from sklearn.preprocessing import StandardScaler\n",
    "from sklearn.ensemble import RandomForestRegressor, GradientBoostingRegressor\n",
    "from xgboost import XGBRegressor\n",
    "from sklearn.metrics import root_mean_squared_error\n",
    "from sklearn.pipeline import Pipeline\n",
    "\n",
    "# 데이터 로드\n",
    "df = pd.read_csv('./data/kospi.csv', encoding='cp949')\n",
    "\n",
    "# 결측치 처리\n",
    "df = df.dropna()\n",
    "\n",
    "# 특성과 타겟 분리\n",
    "y = df['코스피지수']\n",
    "X = df.drop(columns=['코스피지수'])\n",
    "\n",
    "# 데이터 분할\n",
    "X_train, X_test, y_train, y_test = train_test_split(X, y, test_size=0.3, random_state=42)\n",
    "\n",
    "\n",
    "# XGBoost 모델 및 파라미터 그리드 설정\n",
    "xgbr = XGBRegressor(random_state=42)\n",
    "params = {\n",
    "    'max_depth': [3, 4, 5, 6, 7],\n",
    "    'subsample': [0.6, 0.7, 0.8],\n",
    "    'colsample_bytree': [0.5, 0.6, 0.7],\n",
    "    'n_estimators': [700, 750,800, 850, 900],\n",
    "    'learning_rate': [0.05],\n",
    "    'min_child_weight': [1],\n",
    "    'gamma': [0]\n",
    "}\n",
    "\n",
    "# GridSearchCV 설정 및 실행\n",
    "grid = GridSearchCV(estimator=xgbr,\n",
    "                    param_grid=params,\n",
    "                    scoring='neg_root_mean_squared_error',  # RMSE를 직접 최소화\n",
    "                    verbose=2,\n",
    "                    n_jobs=-1,\n",
    "                    cv=5)\n",
    "\n",
    "grid.fit(X_train, y_train)\n",
    "\n",
    "\n",
    "# 최적의 모델로 예측\n",
    "best_model = grid.best_estimator_\n",
    "y_pred = best_model.predict(X_test)\n",
    "\n",
    "# RMSE 계산\n",
    "rmse = root_mean_squared_error(y_test, y_pred)\n",
    "\n",
    "print(f\"Best parameters: {grid.best_params_}\")\n",
    "print(f\"RMSE: {rmse}\")"
   ]
  }
 ],
 "metadata": {
  "kernelspec": {
   "display_name": "Python 3",
   "language": "python",
   "name": "python3"
  },
  "language_info": {
   "codemirror_mode": {
    "name": "ipython",
    "version": 3
   },
   "file_extension": ".py",
   "mimetype": "text/x-python",
   "name": "python",
   "nbconvert_exporter": "python",
   "pygments_lexer": "ipython3",
   "version": "3.11.5"
  }
 },
 "nbformat": 4,
 "nbformat_minor": 2
}
